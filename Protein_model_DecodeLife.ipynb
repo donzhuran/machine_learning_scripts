{
 "cells": [
  {
   "cell_type": "code",
   "execution_count": 1,
   "id": "447b22ce-7fc1-45a6-b678-835dfbfbd28c",
   "metadata": {},
   "outputs": [],
   "source": [
    "import numpy as np\n",
    "import pandas as pd\n",
    "import math            \n",
    "neg=np.loadtxt('///Users/dilrajkaur/Downloads/amino_acid_result-neg.csv', delimiter=';',skiprows=1)\n",
    "pos=np.loadtxt('/Users/dilrajkaur/Downloads/final_amino_acid_result-pos.csv', delimiter=';',skiprows=1)"
   ]
  },
  {
   "cell_type": "code",
   "execution_count": 2,
   "id": "ecf0db4c-cc00-4094-9d34-a0de3d823a64",
   "metadata": {},
   "outputs": [],
   "source": [
    "def eighty_twenty(l):\n",
    "    tr=l[:+round(np.shape(l)[0]*0.8),:]\n",
    "    te=l[+round(np.shape(l)[0]*0.8):,:]\n",
    "    return tr,te\n",
    "trainpos,testpos=eighty_twenty(pos)\n",
    "trainneg,testneg=eighty_twenty(neg)\n",
    "\n",
    "postrain=pd.DataFrame(trainpos)\n",
    "postrain.insert(0, 'flag', 1)\n",
    "postrain.insert(0,'ID',range(1,len(postrain)+1))\n",
    "postrain['ID']='pos'+postrain['ID'].astype(str)\n",
    "\n",
    "postest=pd.DataFrame(testpos)\n",
    "postest.insert(0, 'flag', 1)\n",
    "postest.insert(0,'ID',range(1,len(postest)+1))\n",
    "postest['ID']='pos'+postest['ID'].astype(str)\n",
    "\n",
    "negtrain=pd.DataFrame(trainneg)\n",
    "negtrain.insert(0, 'flag', 0)\n",
    "negtrain.insert(0,'ID',range(1,len(negtrain)+1))\n",
    "negtrain['ID']='neg'+negtrain['ID'].astype(str)\n",
    "\n",
    "negtest=pd.DataFrame(testneg)\n",
    "negtest.insert(0, 'flag', 0)\n",
    "negtest.insert(0,'ID',range(1,len(negtest)+1))\n",
    "negtest['ID']='neg'+negtest['ID'].astype(str)\n",
    "\n",
    "train=pd.concat([postrain,negtrain],ignore_index=True)\n",
    "test=pd.concat([postest,negtest],ignore_index=True)\n",
    "\n",
    "train.to_csv('/Users/dilrajkaur/Desktop/Test-files/train.csv',sep=',',index=False)\n",
    "test.to_csv('/Users/dilrajkaur/Desktop/Test-files/test.csv',sep=',',index=False)"
   ]
  },
  {
   "cell_type": "code",
   "execution_count": null,
   "id": "8b5add22-5a67-49c3-ad5a-8a4ac9a85c3b",
   "metadata": {},
   "outputs": [],
   "source": [
    "import \n",
    "from sklearn. branch import SVM\n",
    "from sklearn.svm import LinearSVC\n",
    "\n",
    "model=SVM\n",
    "\n",
    "model.fit ( "
   ]
  },
  {
   "cell_type": "code",
   "execution_count": 3,
   "id": "fa64fc27-da49-4938-9e2d-aee80ae24d71",
   "metadata": {},
   "outputs": [],
   "source": [
    "import os\n",
    "import numpy as np\n",
    "from sklearn.metrics import auc\n",
    "from sklearn.metrics import roc_curve\n",
    "import pathlib\n",
    "import csv\n",
    "\n",
    "train=pd.read_csv('/Users/dilrajkaur/Desktop/Test-files/train.csv',index_col=0)\n",
    "\n",
    "X = train[train.columns[1:]]\n",
    "y=train['flag']\n",
    "\n",
    "test=pd.read_csv('/Users/dilrajkaur/Desktop/Test-files/test.csv',index_col=0)\n",
    "\n",
    "X_test = test[test.columns[1:]]\n",
    "y_test=test['flag']"
   ]
  },
  {
   "cell_type": "code",
   "execution_count": null,
   "id": "e291a94d-c34a-42d5-bf3a-0acb8c46b10a",
   "metadata": {},
   "outputs": [],
   "source": [
    "seed = 7\n",
    "# prepare models\n",
    "model=ETRee\n",
    "\n",
    "models.append(('ETREES', ExtraTreesClassifier(n_estimators=50,class_weight=\"balanced\")))\n",
    "\n",
    "model.fit"
   ]
  },
  {
   "cell_type": "code",
   "execution_count": 25,
   "id": "d90efef9-ba07-45f4-96d0-9859205f04fc",
   "metadata": {},
   "outputs": [
    {
     "data": {
      "text/plain": [
       "Pipeline(steps=[('standardscaler', StandardScaler()),\n",
       "                ('svc', SVC(gamma='auto'))])"
      ]
     },
     "execution_count": 25,
     "metadata": {},
     "output_type": "execute_result"
    }
   ],
   "source": [
    "import numpy as np\n",
    "from sklearn.pipeline import Pipeline\n",
    "from sklearn.pipeline import make_pipeline\n",
    "from sklearn.preprocessing import StandardScaler\n",
    "\n",
    "from sklearn.svm import SVC\n",
    "clf = make_pipeline(StandardScaler(), SVC(gamma='auto'))\n",
    "clf.fit(X, y)\n",
    "Pipeline(steps=[('standardscaler', StandardScaler()),\n",
    "                ('svc', SVC(gamma='auto'))])"
   ]
  },
  {
   "cell_type": "code",
   "execution_count": null,
   "id": "8961b3ea-b6d5-46ed-b59e-b9a471cf6f13",
   "metadata": {},
   "outputs": [],
   "source": [
    "from sklearn.metrics import accuracy_score\n",
    "y_pred = [0, 2, 1, 3]\n",
    "y_true = [0, 1, 2, 3]\n",
    "accuracy_score(y_true, y_pred)\n",
    "\n",
    "accuracy_score(y_true, y_pred, normalize=False)\n"
   ]
  },
  {
   "cell_type": "code",
   "execution_count": 31,
   "id": "d45d47f5-bd94-4c9a-98fd-6636d9eb6e45",
   "metadata": {},
   "outputs": [
    {
     "data": {
      "text/plain": [
       "0.96"
      ]
     },
     "execution_count": 31,
     "metadata": {},
     "output_type": "execute_result"
    }
   ],
   "source": [
    "from sklearn.svm import SVC\n",
    "from sklearn.preprocessing import StandardScaler\n",
    "from sklearn.datasets import make_classification\n",
    "from sklearn.model_selection import train_test_split\n",
    "from sklearn.pipeline import Pipeline\n",
    "X, y = make_classification(random_state=0)\n",
    "X_train, X_test, y_train, y_test = train_test_split(X, y,\n",
    "                                                     random_state=0)\n",
    "pipe = Pipeline([('scaler', StandardScaler()), ('svc', SVC())])\n",
    "# The pipeline can be used as any other estimator\n",
    "# and avoids leaking the test set into the train set\n",
    "pipe.fit(X, y)\n",
    "Pipeline(steps=[('scaler', StandardScaler()), ('svc', SVC())])\n",
    "pipe.score(X_test, y_test)\n",
    "\n"
   ]
  },
  {
   "cell_type": "code",
   "execution_count": null,
   "id": "4dc04df3-043b-4fd1-b45c-ea9fe6e454d5",
   "metadata": {},
   "outputs": [],
   "source": []
  }
 ],
 "metadata": {
  "kernelspec": {
   "display_name": "Python 3 (ipykernel)",
   "language": "python",
   "name": "python3"
  },
  "language_info": {
   "codemirror_mode": {
    "name": "ipython",
    "version": 3
   },
   "file_extension": ".py",
   "mimetype": "text/x-python",
   "name": "python",
   "nbconvert_exporter": "python",
   "pygments_lexer": "ipython3",
   "version": "3.9.13"
  }
 },
 "nbformat": 4,
 "nbformat_minor": 5
}
